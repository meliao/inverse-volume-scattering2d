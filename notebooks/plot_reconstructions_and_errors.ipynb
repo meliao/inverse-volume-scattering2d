{
 "cells": [
  {
   "cell_type": "code",
   "execution_count": 1,
   "id": "4c83757c-7b33-467b-8e10-74c7629e6fdb",
   "metadata": {},
   "outputs": [
    {
     "name": "stdout",
     "output_type": "stream",
     "text": [
      "Intel MKL WARNING: Support of Intel(R) Streaming SIMD Extensions 4.2 (Intel(R) SSE4.2) enabled only processors has been deprecated. Intel oneAPI Math Kernel Library 2025.0 will require Intel(R) Advanced Vector Extensions (Intel(R) AVX) instructions.\n",
      "Intel MKL WARNING: Support of Intel(R) Streaming SIMD Extensions 4.2 (Intel(R) SSE4.2) enabled only processors has been deprecated. Intel oneAPI Math Kernel Library 2025.0 will require Intel(R) Advanced Vector Extensions (Intel(R) AVX) instructions.\n"
     ]
    }
   ],
   "source": [
    "import numpy as np\n",
    "import scipy.io\n",
    "import matplotlib.pyplot as plt\n",
    "import h5py\n",
    "import argparse\n",
    "import os\n",
    "import time"
   ]
  },
  {
   "cell_type": "code",
   "execution_count": 2,
   "id": "e3124af7-6b2c-4a2d-a62e-11083466b447",
   "metadata": {},
   "outputs": [],
   "source": [
    "def evaluate_sine_series(coefs, X, Y):\n",
    "    \"\"\"\n",
    "    Evaluate the 2D sine series on a 2D uniform grid.\n",
    "\n",
    "    Parameters:\n",
    "    coefs (2D array): Coefficients of the sine series.\n",
    "    X (2D array): X coordinates of the grid.\n",
    "    Y (2D array): Y coordinates of the grid.\n",
    "\n",
    "    Returns:\n",
    "    q (2D array): The evaluated sine series on the grid.\n",
    "    \"\"\"\n",
    "    q = np.zeros_like(X)\n",
    "    m, n = coefs.shape\n",
    "\n",
    "    for j in range(m):\n",
    "        for k in range(n):\n",
    "            q += (\n",
    "                coefs[j, k]\n",
    "                * np.sin((j + 1) * (X + np.pi / 2))\n",
    "                * np.sin((k + 1) * (Y + np.pi / 2))\n",
    "            )\n",
    "\n",
    "    return q\n",
    "\n",
    "def sine_series(q: np.ndarray, X: np.ndarray, Y: np.ndarray, N: int):\n",
    "    \"\"\"\n",
    "    Compute the coefficients of the 2D sine series given a signal q on a grid.\n",
    "\n",
    "    Parameters:\n",
    "    q (2D array): The signal on the grid.\n",
    "    X (2D array): X coordinates of the grid.\n",
    "    Y (2D array): Y coordinates of the grid.\n",
    "    N (int): The size of the coefficient array (NxN).\n",
    "\n",
    "    Returns:\n",
    "    coefs (2D array): Coefficients of the sine series.\n",
    "    \"\"\"\n",
    "    coefs = np.zeros((N, N))\n",
    "    Mx, My = X.shape\n",
    "\n",
    "    for j in range(N):\n",
    "        for k in range(N):\n",
    "            # Calculate the inner product <q, sin(j(x+pi/2))sin(k(y+pi/2))>\n",
    "            sin_jx = np.sin((j + 1) * (X + np.pi / 2))\n",
    "            sin_ky = np.sin((k + 1) * (Y + np.pi / 2))\n",
    "            inner_product = np.sum(q * sin_jx * sin_ky)\n",
    "\n",
    "            # Normalize the coefficient\n",
    "            coefs[j, k] = (4 / (Mx * My)) * inner_product\n",
    "\n",
    "    return coefs\n"
   ]
  },
  {
   "cell_type": "code",
   "execution_count": 3,
   "id": "3d6702b2-2877-4ac6-8dbe-b190bbcd63ea",
   "metadata": {},
   "outputs": [],
   "source": [
    "def load_field_in_hdf5(\n",
    "    key: str, fp_out: str, idx_slice=slice(None), retries: int = 0\n",
    ") -> np.ndarray:\n",
    "    \"\"\"Loads an individual field to the specified field in a given hdf5 file\"\"\"\n",
    "    if not os.path.exists(fp_out):\n",
    "        raise FileNotFoundError(\"Can't load field %s from %s\" % (key, fp_out))\n",
    "    if retries >= 10:\n",
    "        raise IOError(f\"(lfih) Couldn't open file after 10 tries\")\n",
    "    try:\n",
    "        with h5py.File(fp_out, \"r\") as hf:\n",
    "            data_loaded = hf[key][()]\n",
    "            data = data_loaded[idx_slice]\n",
    "\n",
    "        return data\n",
    "\n",
    "    except BlockingIOError:\n",
    "        print(\"File is blocked; on retry # %i\", retries)\n",
    "        time.sleep(30)\n",
    "        return load_field_in_hdf5(key, fp_out, idx_slice, retries + 1)\n"
   ]
  },
  {
   "cell_type": "code",
   "execution_count": 4,
   "id": "97efbe98-41f8-4102-8a1d-0333cad12eb2",
   "metadata": {},
   "outputs": [
    {
     "name": "stdout",
     "output_type": "stream",
     "text": [
      "(192, 192)\n",
      "(192, 192)\n",
      "(192, 192)\n"
     ]
    }
   ],
   "source": [
    "gt_fp = \"/Users/owen/projects/recursive-linearization-code/data/2024-05-10_gd_testing/data_nu_8/measurements_0.h5\"\n",
    "q_gt = load_field_in_hdf5(\"q_cart\", gt_fp)[4]\n",
    "\n",
    "x_vals = np.linspace(-np.pi/2, np.pi/2, 192, endpoint=False)\n",
    "(X, Y) = np.meshgrid(x_vals, x_vals)\n",
    "\n",
    "print(q_gt.shape)\n",
    "print(X.shape)\n",
    "print(Y.shape)"
   ]
  },
  {
   "cell_type": "code",
   "execution_count": 5,
   "id": "47045e8e-6d7c-4a8e-885e-d3a3f1512444",
   "metadata": {},
   "outputs": [],
   "source": [
    "q_sine_series = sine_series(q_gt, X, Y, 96)"
   ]
  },
  {
   "cell_type": "code",
   "execution_count": 6,
   "id": "f811fcec-5d9b-4c6b-9110-d6006bb89b04",
   "metadata": {},
   "outputs": [],
   "source": [
    "k_vals = np.linspace(1.0, 50.0, 10, endpoint=False)"
   ]
  },
  {
   "cell_type": "code",
   "execution_count": 8,
   "id": "0ac6c2ed-e29f-4465-95f1-456f4b00872c",
   "metadata": {},
   "outputs": [],
   "source": [
    "rel_l2_error_lst = []\n",
    "for k in k_vals:\n",
    "    nmodes = int(2 * np.floor(k))\n",
    "    q_trunc_sin = q_sine_series[:nmodes, :nmodes]\n",
    "    q_trunc = evaluate_sine_series(q_trunc_sin, X, Y)\n",
    "    rel_l2_error = np.linalg.norm(q_trunc - q_gt) / np.linalg.norm(q_gt)\n",
    "    rel_l2_error_lst.append(rel_l2_error)\n",
    "    print(f\"Finished with k={k}\")\n",
    "\n",
    "    \n",
    "    "
   ]
  },
  {
   "cell_type": "code",
   "execution_count": 9,
   "id": "e9d405cb-ff58-4522-9a90-f0c21ef7a2eb",
   "metadata": {},
   "outputs": [],
   "source": [
    "rel_l2_error_arr = np.array(rel_l2_error_lst)\n"
   ]
  },
  {
   "cell_type": "code",
   "execution_count": 12,
   "id": "75406f1a-d8d0-4689-bb98-846577fa7230",
   "metadata": {},
   "outputs": [
    {
     "data": {
      "image/png": "[encoded data removed]",
      "text/plain": [
       "<Figure size 640x480 with 1 Axes>"
      ]
     },
     "metadata": {},
     "output_type": "display_data"
    }
   ],
   "source": [
    "plt.plot(k_vals, rel_l2_error_arr, label='ground-truth')\n",
    "plt.xlabel(\"Frequency $k$\")\n",
    "plt.ylabel(\"Relative L2 Error\")\n",
    "plt.yscale('log')\n",
    "plt.legend()\n",
    "plt.show()"
   ]
  },
  {
   "cell_type": "code",
   "execution_count": null,
   "id": "c0b8cf69-7a44-4ece-a464-83f407f95792",
   "metadata": {},
   "outputs": [],
   "source": []
  }
 ],
 "metadata": {
  "kernelspec": {
   "display_name": "Python 3 (ipykernel)",
   "language": "python",
   "name": "python3"
  },
  "language_info": {
   "codemirror_mode": {
    "name": "ipython",
    "version": 3
   },
   "file_extension": ".py",
   "mimetype": "text/x-python",
   "name": "python",
   "nbconvert_exporter": "python",
   "pygments_lexer": "ipython3",
   "version": "3.10.14"
  }
 },
 "nbformat": 4,
 "nbformat_minor": 5
}
